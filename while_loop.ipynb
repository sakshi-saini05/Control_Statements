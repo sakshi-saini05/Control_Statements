{
 "cells": [
  {
   "cell_type": "markdown",
   "id": "72b4b99f",
   "metadata": {},
   "source": [
    "  while(expression):\n",
    "   - body\n",
    "## not : expression is to be evaluated is true or false.if it is true then we enter in the body otherwise we exit the loop    "
   ]
  },
  {
   "cell_type": "markdown",
   "id": "0e05d156",
   "metadata": {},
   "source": [
    "# wap to display the counting from 1 to 20"
   ]
  },
  {
   "cell_type": "code",
   "execution_count": 2,
   "id": "a6851d70",
   "metadata": {},
   "outputs": [
    {
     "name": "stdout",
     "output_type": "stream",
     "text": [
      "1 2 3 4 5 6 7 8 9 10 11 12 13 14 15 16 17 18 19 20 "
     ]
    }
   ],
   "source": [
    "i=1\n",
    "while(i<=20):\n",
    "    print(i,end=\" \")\n",
    "    i=i+1\n"
   ]
  },
  {
   "cell_type": "markdown",
   "id": "96f240a3",
   "metadata": {},
   "source": [
    "## display the counting from start and end given by user "
   ]
  },
  {
   "cell_type": "code",
   "execution_count": 4,
   "id": "a8791247",
   "metadata": {},
   "outputs": [
    {
     "name": "stdout",
     "output_type": "stream",
     "text": [
      "enter the start 2\n",
      "enter the end 5\n",
      "2\n",
      "3\n",
      "4\n",
      "5\n"
     ]
    }
   ],
   "source": [
    "start=int(input(\"enter the start \"))\n",
    "end=int(input(\"enter the end \"))\n",
    "while(start<=end):\n",
    "    print(start)\n",
    "    start=start+1"
   ]
  },
  {
   "cell_type": "markdown",
   "id": "53a98843",
   "metadata": {},
   "source": [
    " ## wap to display the even or odd number from the range entered by the user"
   ]
  },
  {
   "cell_type": "code",
   "execution_count": 1,
   "id": "9c9c7b63",
   "metadata": {},
   "outputs": [
    {
     "name": "stdout",
     "output_type": "stream",
     "text": [
      "enter the start 1\n",
      "enter the end 10\n",
      "1 odd\n",
      "2 even\n",
      "3 odd\n",
      "4 even\n",
      "5 odd\n",
      "6 even\n",
      "7 odd\n",
      "8 even\n",
      "9 odd\n",
      "10 even\n"
     ]
    }
   ],
   "source": [
    "start=int(input(\"enter the start \"))\n",
    "end=int(input(\"enter the end \"))\n",
    "while(start<=end):\n",
    "    if start%2==0:\n",
    "        print(start,\"even\")\n",
    "    else:\n",
    "        print(start,\"odd\")\n",
    "    start=start+1"
   ]
  },
  {
   "cell_type": "markdown",
   "id": "4d2a7934",
   "metadata": {},
   "source": [
    " ## wap to count the even or odd number from the range entered by the user"
   ]
  },
  {
   "cell_type": "code",
   "execution_count": 10,
   "id": "d873bba6",
   "metadata": {},
   "outputs": [
    {
     "name": "stdout",
     "output_type": "stream",
     "text": [
      "enter the start 5\n",
      "enter the end 10\n",
      "6 even\n",
      "8 even\n",
      "10 even\n",
      "the even count is 3\n",
      "the odd count is 3\n"
     ]
    }
   ],
   "source": [
    "start=int(input(\"enter the start \"))\n",
    "end=int(input(\"enter the end \"))\n",
    "count_e=0\n",
    "count_o=0\n",
    "while(start<=end):\n",
    "    if start%2==0:\n",
    "        print(start,\"even\")\n",
    "        count_e=count_e+1\n",
    "    else:\n",
    "        count_o=count_o+1\n",
    "    start=start+1\n",
    "print(\"the even count is\",count_e)  \n",
    "print(\"the odd count is\",count_o)  "
   ]
  },
  {
   "cell_type": "markdown",
   "id": "cb956585",
   "metadata": {},
   "source": [
    "## wap to print the table of the numbers entered by the user"
   ]
  },
  {
   "cell_type": "code",
   "execution_count": 11,
   "id": "3e88d38c",
   "metadata": {},
   "outputs": [
    {
     "name": "stdout",
     "output_type": "stream",
     "text": [
      "enter the num 5\n",
      "5 * 1 = 5\n",
      "5 * 2 = 10\n",
      "5 * 3 = 15\n",
      "5 * 4 = 20\n",
      "5 * 5 = 25\n",
      "5 * 6 = 30\n",
      "5 * 7 = 35\n",
      "5 * 8 = 40\n",
      "5 * 9 = 45\n",
      "5 * 10 = 50\n"
     ]
    }
   ],
   "source": [
    "num=int(input(\"enter the num \"))\n",
    "i=1\n",
    "while (i<=10):\n",
    "    print(num,\"*\",i,\"=\",num*i)\n",
    "    i=i+1"
   ]
  },
  {
   "cell_type": "markdown",
   "id": "d3f9bdd2",
   "metadata": {},
   "source": [
    "## wap to print the table of the numbers entered by the user in reverse order"
   ]
  },
  {
   "cell_type": "code",
   "execution_count": 12,
   "id": "990204d5",
   "metadata": {},
   "outputs": [
    {
     "name": "stdout",
     "output_type": "stream",
     "text": [
      "enter the num 5\n",
      "5 * 10 = 50\n",
      "5 * 9 = 45\n",
      "5 * 8 = 40\n",
      "5 * 7 = 35\n",
      "5 * 6 = 30\n",
      "5 * 5 = 25\n",
      "5 * 4 = 20\n",
      "5 * 3 = 15\n",
      "5 * 2 = 10\n",
      "5 * 1 = 5\n"
     ]
    }
   ],
   "source": [
    "num=int(input(\"enter the num \"))\n",
    "i=10\n",
    "while (i>0):\n",
    "    print(num,\"*\",i,\"=\",num*i)\n",
    "    i=i-1"
   ]
  },
  {
   "cell_type": "markdown",
   "id": "88bdddab",
   "metadata": {},
   "source": [
    " ## wap to display the sum of numbers enter by the user in the range"
   ]
  },
  {
   "cell_type": "code",
   "execution_count": 2,
   "id": "c19ad2f5",
   "metadata": {},
   "outputs": [
    {
     "name": "stdout",
     "output_type": "stream",
     "text": [
      "enter the start 1\n",
      "enter the end 5\n",
      "the sum is  15\n"
     ]
    }
   ],
   "source": [
    "start=int(input(\"enter the start \" ))\n",
    "end=int(input(\"enter the end \" ))\n",
    "sum1=0\n",
    "while(start<=end):\n",
    "    sum1=sum1+start\n",
    "    start=start+1\n",
    "print(\"the sum is \",sum1)\n",
    "    \n"
   ]
  },
  {
   "cell_type": "markdown",
   "id": "7408251e",
   "metadata": {},
   "source": [
    "## wap to display the count the factors of the number entered by the user\n"
   ]
  },
  {
   "cell_type": "code",
   "execution_count": 2,
   "id": "b0442d3b",
   "metadata": {},
   "outputs": [
    {
     "name": "stdout",
     "output_type": "stream",
     "text": [
      "enter the number45\n",
      "1 is a factor of  45\n",
      "3 is a factor of  45\n",
      "5 is a factor of  45\n",
      "9 is a factor of  45\n",
      "15 is a factor of  45\n",
      "45 is a factor of  45\n",
      "total factors of the num is 6\n"
     ]
    }
   ],
   "source": [
    "num=int(input(\"enter the number\"))\n",
    "count=0\n",
    "i=1\n",
    "while(i<=num):\n",
    "    if num%i==0:\n",
    "        print(i,\"is a factor of \",num)\n",
    "        count=count+1\n",
    "    i=i+1\n",
    "print(\"total factors of the num is\",count)        \n"
   ]
  },
  {
   "cell_type": "markdown",
   "id": "34c05704",
   "metadata": {},
   "source": [
    "## wap to check it is prime or not"
   ]
  },
  {
   "cell_type": "code",
   "execution_count": 12,
   "id": "465f5658",
   "metadata": {},
   "outputs": [
    {
     "name": "stdout",
     "output_type": "stream",
     "text": [
      "enter the number45\n",
      "1 is a factor of  45\n",
      "3 is a factor of  45\n",
      "5 is a factor of  45\n",
      "9 is a factor of  45\n",
      "15 is a factor of  45\n",
      "45 is a factor of  45\n",
      "total factors of the num is 6\n",
      "it is composite\n"
     ]
    }
   ],
   "source": [
    "num=int(input(\"enter the number\"))\n",
    "count=0\n",
    "i=1\n",
    "while(i<=num):\n",
    "    if num%i==0:\n",
    "        print(i,\"is a factor of \",num)\n",
    "        count=count+1\n",
    "    i=i+1\n",
    "print(\"total factors of the num is\",count)          \n",
    "if count==2:\n",
    "    print(\"it is a prime no\")\n",
    "else:\n",
    "    print(\"it is composite\")\n",
    "    "
   ]
  },
  {
   "cell_type": "markdown",
   "id": "e19c4e7a",
   "metadata": {},
   "source": [
    "\n",
    "## wap to reverse the number entered by the user"
   ]
  },
  {
   "cell_type": "code",
   "execution_count": 31,
   "id": "93994ba4",
   "metadata": {},
   "outputs": [
    {
     "name": "stdout",
     "output_type": "stream",
     "text": [
      "entet the num 456\n",
      "the reverse is 654\n"
     ]
    }
   ],
   "source": [
    "num=int(input(\"entet the num \"))\n",
    "rev=0\n",
    "while(num!=0):\n",
    "    r=num%10 #it gives the last digit\n",
    "    num=num//10 # it gives the number after reducing i.e quotient\n",
    "    rev=rev*10+r # it gives the reverse of the number\n",
    "print(\"the reverse is\",rev)    "
   ]
  },
  {
   "cell_type": "markdown",
   "id": "01672320",
   "metadata": {},
   "source": [
    "## wap to display whether the entered number is palindrome or not "
   ]
  },
  {
   "cell_type": "code",
   "execution_count": 15,
   "id": "52f9837d",
   "metadata": {},
   "outputs": [
    {
     "name": "stdout",
     "output_type": "stream",
     "text": [
      "entet the num 121\n",
      "palindrome\n"
     ]
    }
   ],
   "source": [
    "num=int(input(\"entet the num \"))\n",
    "rev=0\n",
    "original_number=num\n",
    "while(num!=0):\n",
    "    r=num%10\n",
    "    num=num//10\n",
    "    rev=rev*10+r\n",
    "if rev==original_number:\n",
    "    print(\"palindrome\")# means giving the same number after reversing\n",
    "else:\n",
    "    print(\"not\")"
   ]
  },
  {
   "cell_type": "markdown",
   "id": "7c031d98",
   "metadata": {},
   "source": [
    "## wap to check the entered number is armstrong or not"
   ]
  },
  {
   "cell_type": "code",
   "execution_count": 1,
   "id": "dd2c6ee6",
   "metadata": {},
   "outputs": [
    {
     "name": "stdout",
     "output_type": "stream",
     "text": [
      "enter the number 0\n",
      "the number is armstrong\n"
     ]
    }
   ],
   "source": [
    "num=int(input(\"enter the number \"))\n",
    "original_number=num\n",
    "count=0\n",
    "add=0\n",
    "while(num):\n",
    "    r=num%10\n",
    "    num=num//10\n",
    "    r=r*r*r\n",
    "    add=add+r\n",
    "if add==original_number:\n",
    "    print(\"the number is armstrong\")\n",
    "else:\n",
    "    print(\"the number is not armstrong\")\n",
    "    "
   ]
  },
  {
   "cell_type": "markdown",
   "id": "910f9271",
   "metadata": {},
   "source": [
    "## wap to count the digits of the number enterd by the user or tell the which digit number is this"
   ]
  },
  {
   "cell_type": "code",
   "execution_count": 3,
   "id": "fefd644f",
   "metadata": {},
   "outputs": [
    {
     "name": "stdout",
     "output_type": "stream",
     "text": [
      "enter the num 25\n",
      "2\n"
     ]
    }
   ],
   "source": [
    "num=int(input(\"enter the num \"))\n",
    "count=0\n",
    "while(num!=0):\n",
    "    r=num%10\n",
    "    num=num//10\n",
    "    count=count+1\n",
    "print(count)    "
   ]
  },
  {
   "cell_type": "markdown",
   "id": "f9b6d9c3",
   "metadata": {},
   "source": [
    "## wap to sum of all the digits present in the number"
   ]
  },
  {
   "cell_type": "code",
   "execution_count": null,
   "id": "a6ab2be4",
   "metadata": {},
   "outputs": [],
   "source": [
    "num=int(input(\"enter the num \"))\n",
    "count=0\n",
    "add=0\n",
    "while(num):\n",
    "    r=num%10\n",
    "    num=num//10\n",
    "    add=add+r\n",
    "print(add)"
   ]
  },
  {
   "cell_type": "code",
   "execution_count": null,
   "id": "76488bdc",
   "metadata": {},
   "outputs": [],
   "source": []
  }
 ],
 "metadata": {
  "kernelspec": {
   "display_name": "Python 3 (ipykernel)",
   "language": "python",
   "name": "python3"
  },
  "language_info": {
   "codemirror_mode": {
    "name": "ipython",
    "version": 3
   },
   "file_extension": ".py",
   "mimetype": "text/x-python",
   "name": "python",
   "nbconvert_exporter": "python",
   "pygments_lexer": "ipython3",
   "version": "3.10.9"
  }
 },
 "nbformat": 4,
 "nbformat_minor": 5
}
