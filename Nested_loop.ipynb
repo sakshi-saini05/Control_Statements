{
 "cells": [
  {
   "cell_type": "markdown",
   "id": "9c81f22d",
   "metadata": {},
   "source": [
    "# nested loop\n",
    "- for -for\n",
    "- for -while\n",
    "- while-for\n",
    "- while-while"
   ]
  },
  {
   "cell_type": "markdown",
   "id": "bdcbe0c8",
   "metadata": {},
   "source": [
    "# wap to print the table of the numbers which lies in the range entered by user"
   ]
  },
  {
   "cell_type": "code",
   "execution_count": 3,
   "id": "819a1f3c",
   "metadata": {},
   "outputs": [
    {
     "name": "stdout",
     "output_type": "stream",
     "text": [
      "enter the start 2\n",
      "enter the end 5\n",
      "2 * 1 = 2\n",
      "2 * 2 = 4\n",
      "2 * 3 = 6\n",
      "2 * 4 = 8\n",
      "2 * 5 = 10\n",
      "2 * 6 = 12\n",
      "2 * 7 = 14\n",
      "2 * 8 = 16\n",
      "2 * 9 = 18\n",
      "2 * 10 = 20\n",
      "-----------------------\n",
      "3 * 1 = 3\n",
      "3 * 2 = 6\n",
      "3 * 3 = 9\n",
      "3 * 4 = 12\n",
      "3 * 5 = 15\n",
      "3 * 6 = 18\n",
      "3 * 7 = 21\n",
      "3 * 8 = 24\n",
      "3 * 9 = 27\n",
      "3 * 10 = 30\n",
      "-----------------------\n",
      "4 * 1 = 4\n",
      "4 * 2 = 8\n",
      "4 * 3 = 12\n",
      "4 * 4 = 16\n",
      "4 * 5 = 20\n",
      "4 * 6 = 24\n",
      "4 * 7 = 28\n",
      "4 * 8 = 32\n",
      "4 * 9 = 36\n",
      "4 * 10 = 40\n",
      "-----------------------\n",
      "5 * 1 = 5\n",
      "5 * 2 = 10\n",
      "5 * 3 = 15\n",
      "5 * 4 = 20\n",
      "5 * 5 = 25\n",
      "5 * 6 = 30\n",
      "5 * 7 = 35\n",
      "5 * 8 = 40\n",
      "5 * 9 = 45\n",
      "5 * 10 = 50\n",
      "-----------------------\n"
     ]
    }
   ],
   "source": [
    "start=int(input(\"enter the start \"))\n",
    "end=int(input(\"enter the end \"))\n",
    "for num in range(start,end+1):\n",
    "    for i in range(1,11):\n",
    "        print(num,\"*\",i,\"=\",num*i)\n",
    "    print(\"-----------------------\")    \n"
   ]
  },
  {
   "cell_type": "markdown",
   "id": "79d23208",
   "metadata": {},
   "source": [
    "# wap to count the total vowels and consonants in the name of the lsit"
   ]
  },
  {
   "cell_type": "code",
   "execution_count": 6,
   "id": "f6d9f44f",
   "metadata": {},
   "outputs": [
    {
     "name": "stdout",
     "output_type": "stream",
     "text": [
      "the vowels count is  14\n",
      "the vowels count is 21\n"
     ]
    }
   ],
   "source": [
    "names=[\"damini\",\"avishek\",\"chirag\",\"sakshi\",\"viral\",\"tarun\"]\n",
    "count_v=0\n",
    "count_c=0\n",
    "for n in names:\n",
    "    for ch in n:\n",
    "        if ch in \"aeiouAEIOU\":\n",
    "            count_v=count_v+1\n",
    "        else:\n",
    "            count_c=count_c+1\n",
    "print(\"the vowels count is \",count_v)\n",
    "print(\"the vowels count is\",count_c)"
   ]
  },
  {
   "cell_type": "markdown",
   "id": "e644330f",
   "metadata": {},
   "source": [
    "# wap to count the vowels and consonants of eacch name in the given list"
   ]
  },
  {
   "cell_type": "code",
   "execution_count": 9,
   "id": "fa8b7cde",
   "metadata": {},
   "outputs": [
    {
     "name": "stdout",
     "output_type": "stream",
     "text": [
      "vowels in damini 3\n",
      "consonants in damini 3\n",
      "----------------------\n",
      "vowels in avishek 3\n",
      "consonants in avishek 4\n",
      "----------------------\n",
      "vowels in chirag 2\n",
      "consonants in chirag 4\n",
      "----------------------\n",
      "vowels in sakshi 2\n",
      "consonants in sakshi 4\n",
      "----------------------\n",
      "vowels in viral 2\n",
      "consonants in viral 3\n",
      "----------------------\n",
      "vowels in tarun 2\n",
      "consonants in tarun 3\n",
      "----------------------\n"
     ]
    }
   ],
   "source": [
    "names=[\"damini\",\"avishek\",\"chirag\",\"sakshi\",\"viral\",\"tarun\"]\n",
    "for n in names:\n",
    "    count_v=0  # after doing the iteration on first name the count changes to zero again so that we dont maintain the many sounts variable\n",
    "    count_c=0  \n",
    "    for ch in n:\n",
    "        if ch in \"aeiouAEIOU\":\n",
    "            count_v=count_v+1\n",
    "        else:\n",
    "            count_c=count_c+1\n",
    "    print(\"vowels in\",n,count_v)\n",
    "    print(\"consonants in\",n,count_c)\n",
    "    print(\"----------------------\")\n",
    "            \n",
    "        "
   ]
  },
  {
   "cell_type": "code",
   "execution_count": 7,
   "id": "6ec40f7a",
   "metadata": {},
   "outputs": [
    {
     "name": "stdout",
     "output_type": "stream",
     "text": [
      "python\n",
      "perl\n"
     ]
    }
   ],
   "source": [
    "l=[\"c++\",\"java\",\"python\",\"perl\"]\n",
    "for i in l:\n",
    "    if \"p\" in i:\n",
    "        print(i)\n",
    "    \n"
   ]
  },
  {
   "cell_type": "markdown",
   "id": "d9ad0aa0",
   "metadata": {},
   "source": [
    "# wap to check the prime number and composite number in then range"
   ]
  },
  {
   "cell_type": "code",
   "execution_count": 1,
   "id": "e4596104",
   "metadata": {},
   "outputs": [
    {
     "name": "stdout",
     "output_type": "stream",
     "text": [
      "enter the start 1\n",
      "enter the end 10\n",
      "1 is composite\n",
      "2 is prime\n",
      "3 is prime\n",
      "4 is composite\n",
      "5 is prime\n",
      "6 is composite\n",
      "7 is prime\n",
      "8 is composite\n",
      "9 is composite\n",
      "10 is composite\n",
      "total prime is  4\n",
      "total composite is  6\n"
     ]
    }
   ],
   "source": [
    "start=int(input(\"enter the start \"))\n",
    "end=int(input(\"enter the end \"))\n",
    "count_p=0\n",
    "count_c=0\n",
    "for num  in range(start,end+1):\n",
    "    count=0\n",
    "    for i in range(1,num+1):\n",
    "        if num%i==0:\n",
    "            count=count+1\n",
    "    if count==2:\n",
    "        print(num,\"is prime\")\n",
    "        count_p=count_p+1\n",
    "    else:\n",
    "        print(num,\"is composite\")\n",
    "        count_c=count_c+1\n",
    "print(\"total prime is \",count_p)\n",
    "print(\"total composite is \",count_c)\n",
    "\n"
   ]
  },
  {
   "cell_type": "markdown",
   "id": "6022e083",
   "metadata": {},
   "source": [
    "# pattern questions"
   ]
  },
  {
   "cell_type": "code",
   "execution_count": null,
   "id": "7d96e63f",
   "metadata": {},
   "outputs": [],
   "source": [
    "#####\n",
    "#####\n",
    "#####\n",
    "#####\n",
    "#####"
   ]
  },
  {
   "cell_type": "code",
   "execution_count": 13,
   "id": "44ee7ce4",
   "metadata": {},
   "outputs": [
    {
     "name": "stdout",
     "output_type": "stream",
     "text": [
      "#####\n",
      "#####\n",
      "#####\n",
      "#####\n",
      "#####\n"
     ]
    }
   ],
   "source": [
    "for row in range(1,6):\n",
    "    for cols in range(1,6):\n",
    "        print(\"#\",end=\"\")\n",
    "    print()"
   ]
  },
  {
   "cell_type": "markdown",
   "id": "5667eee1",
   "metadata": {},
   "source": [
    "# print this sequence \n",
    "11111\n",
    "22222\n",
    "33333\n",
    "44444\n",
    "55555"
   ]
  },
  {
   "cell_type": "code",
   "execution_count": 16,
   "id": "36151b40",
   "metadata": {},
   "outputs": [
    {
     "name": "stdout",
     "output_type": "stream",
     "text": [
      "11111\n",
      "22222\n",
      "33333\n",
      "44444\n",
      "55555\n"
     ]
    }
   ],
   "source": [
    "for row in range(1,6):\n",
    "    for cols in range(1,6):\n",
    "         print(row,end=\"\")\n",
    "    print()    "
   ]
  },
  {
   "cell_type": "code",
   "execution_count": null,
   "id": "32e1c74e",
   "metadata": {},
   "outputs": [],
   "source": [
    "for row in range(1,6):\n",
    "    for cols in range(1,6):\n",
    "        print(cols,end=\"\")\n",
    "    print()    "
   ]
  },
  {
   "cell_type": "markdown",
   "id": "314af07b",
   "metadata": {},
   "source": [
    "# print this sequence \n",
    "aaaa\n",
    "bbbb\n",
    "cccc\n",
    "dddd\n"
   ]
  },
  {
   "cell_type": "code",
   "execution_count": 22,
   "id": "5a98756b",
   "metadata": {},
   "outputs": [
    {
     "name": "stdout",
     "output_type": "stream",
     "text": [
      "aaaa\n",
      "bbbb\n",
      "cccc\n",
      "dddd\n"
     ]
    }
   ],
   "source": [
    "asc=97\n",
    "for row in range(1,5):\n",
    "    for cols in range(1,5):\n",
    "        print(chr(asc),end=\"\")\n",
    "    asc=asc+1    \n",
    "    print()"
   ]
  },
  {
   "cell_type": "code",
   "execution_count": 23,
   "id": "e53858ec",
   "metadata": {},
   "outputs": [
    {
     "name": "stdout",
     "output_type": "stream",
     "text": [
      "abcd\n",
      "efgh\n",
      "ijkl\n",
      "mnop\n"
     ]
    }
   ],
   "source": [
    "asc=97\n",
    "for row in range(1,5):\n",
    "    for cols in range(1,5):\n",
    "        print(chr(asc),end=\"\")\n",
    "        asc=asc+1    \n",
    "    print()"
   ]
  },
  {
   "cell_type": "markdown",
   "id": "cba269f2",
   "metadata": {},
   "source": [
    "0101\n",
    "0101\n",
    "0101\n",
    "0101"
   ]
  },
  {
   "cell_type": "code",
   "execution_count": 24,
   "id": "e269ea73",
   "metadata": {},
   "outputs": [
    {
     "name": "stdout",
     "output_type": "stream",
     "text": [
      "0101\n",
      "0101\n",
      "0101\n",
      "0101\n"
     ]
    }
   ],
   "source": [
    "for rows in range(1,5):\n",
    "    d=0\n",
    "    for cols in range(1,5):\n",
    "        print(d,end=\"\")\n",
    "        d=int(not(d))\n",
    "    print()   "
   ]
  }
 ],
 "metadata": {
  "kernelspec": {
   "display_name": "Python 3 (ipykernel)",
   "language": "python",
   "name": "python3"
  },
  "language_info": {
   "codemirror_mode": {
    "name": "ipython",
    "version": 3
   },
   "file_extension": ".py",
   "mimetype": "text/x-python",
   "name": "python",
   "nbconvert_exporter": "python",
   "pygments_lexer": "ipython3",
   "version": "3.10.9"
  }
 },
 "nbformat": 4,
 "nbformat_minor": 5
}
