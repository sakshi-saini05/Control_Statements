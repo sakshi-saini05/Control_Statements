{
 "cells": [
  {
   "cell_type": "markdown",
   "id": "ec20ed68",
   "metadata": {},
   "source": [
    "## jump statements\n",
    "- break\n",
    "- continue\n",
    "- pass\n",
    "\n",
    "\n",
    " \n",
    "\n",
    "\n"
   ]
  },
  {
   "cell_type": "markdown",
   "id": "959d00d0",
   "metadata": {},
   "source": [
    "\n",
    " break: whenever the interpreter encounters the break then it terminates the loop\n",
    "- continue: whenever the interpreter encounters the continue it skip off the following statements followed by it and passes the control to the next iteration\n"
   ]
  },
  {
   "cell_type": "markdown",
   "id": "43cc0b43",
   "metadata": {},
   "source": [
    "# wap to dispaly all the numbers in the list unitil it got the number which is to entered by the user."
   ]
  },
  {
   "cell_type": "code",
   "execution_count": 5,
   "id": "c165a10f",
   "metadata": {},
   "outputs": [
    {
     "name": "stdout",
     "output_type": "stream",
     "text": [
      "enter the number 14\n",
      "12\n",
      "13\n",
      "14\n"
     ]
    }
   ],
   "source": [
    "l=[12,13,14,15,80,100,1]\n",
    "num=int(input(\"enter the number \"))\n",
    "for i in l:\n",
    "    print(i)\n",
    "    if i==num:\n",
    "        break\n",
    "      "
   ]
  },
  {
   "cell_type": "markdown",
   "id": "980119eb",
   "metadata": {},
   "source": [
    "# wap to display all the numbers in the list except the number which is to entered by the user"
   ]
  },
  {
   "cell_type": "code",
   "execution_count": 6,
   "id": "73cd1d21",
   "metadata": {},
   "outputs": [
    {
     "name": "stdout",
     "output_type": "stream",
     "text": [
      "enter the number 15\n",
      "12\n",
      "13\n",
      "14\n",
      "80\n",
      "100\n",
      "1\n"
     ]
    }
   ],
   "source": [
    "l=[12,13,14,15,80,100,1]\n",
    "num=int(input(\"enter the number \"))\n",
    "for i in l:\n",
    "    if i==num:\n",
    "        continue\n",
    "    print(i) "
   ]
  },
  {
   "cell_type": "markdown",
   "id": "b0e4fc38",
   "metadata": {},
   "source": [
    "# wap to display all the numbers entered by the user until it gets number which is divisible by 5"
   ]
  },
  {
   "cell_type": "code",
   "execution_count": 13,
   "id": "faaa85db",
   "metadata": {},
   "outputs": [
    {
     "name": "stdout",
     "output_type": "stream",
     "text": [
      "enter the start 2\n",
      "enter the end 10\n",
      "2\n",
      "3\n",
      "4\n",
      "5\n"
     ]
    }
   ],
   "source": [
    "start=int(input(\"enter the start \"))\n",
    "end=int(input(\"enter the end \"))\n",
    "for i in range(start,end+1):\n",
    "    print(i)\n",
    "    if i%5==0:\n",
    "        break\n",
    "     \n"
   ]
  },
  {
   "cell_type": "markdown",
   "id": "9edfc8d7",
   "metadata": {},
   "source": [
    "# wap to display all the numbers from the list entered by user until it gets second number which is divisible by the user"
   ]
  },
  {
   "cell_type": "code",
   "execution_count": 16,
   "id": "3f8e89d7",
   "metadata": {},
   "outputs": [
    {
     "name": "stdout",
     "output_type": "stream",
     "text": [
      "10\n",
      "12\n",
      "13\n",
      "14\n",
      "15\n"
     ]
    }
   ],
   "source": [
    "l=[10,12,13,14,15,90,56,65]\n",
    "count=0\n",
    "for i in l:\n",
    "    print(i)\n",
    "    if i%5==0:\n",
    "        count=count+1\n",
    "        if count==2:\n",
    "            break"
   ]
  },
  {
   "cell_type": "markdown",
   "id": "7afb0d2b",
   "metadata": {},
   "source": [
    "## pass: nothing"
   ]
  },
  {
   "cell_type": "code",
   "execution_count": 18,
   "id": "8c9a348f",
   "metadata": {},
   "outputs": [],
   "source": [
    "a=1\n",
    "if a==2:\n",
    "    pass# if there is nothing in the body of if"
   ]
  },
  {
   "cell_type": "markdown",
   "id": "249ea89d",
   "metadata": {},
   "source": [
    "difference b/w for and while loop\n",
    "for: is used for tranversing the elements of iterable\n",
    "   :when we know in advance how many iterations is going to execute.\n",
    "while:is not used for transversing the elements of the iterable directly we can do it with the help of slicing and indexing concept.\n",
    ":for both cases\n"
   ]
  },
  {
   "cell_type": "markdown",
   "id": "a9a35297",
   "metadata": {},
   "source": []
  },
  {
   "cell_type": "markdown",
   "id": "34b094e1",
   "metadata": {},
   "source": [
    "# wap to add the sum of all the numbers taken by the user until user explicity gives zero"
   ]
  },
  {
   "cell_type": "code",
   "execution_count": 21,
   "id": "c469275a",
   "metadata": {},
   "outputs": [
    {
     "name": "stdout",
     "output_type": "stream",
     "text": [
      "enter thr number 2\n",
      "re enter the number \n",
      "enter thr number 5\n",
      "re enter the number \n",
      "enter thr number 0\n",
      "the sum is  7\n"
     ]
    }
   ],
   "source": [
    "sum1=0\n",
    "while(True):\n",
    "    num=int(input(\"enter thr number \"))\n",
    "    sum1=sum1+num\n",
    "    if num!=0:\n",
    "        print(\"re enter the number \")\n",
    "        continue\n",
    "    else:\n",
    "        break\n",
    "print(\"the sum is \",sum1)        \n",
    "        \n"
   ]
  },
  {
   "cell_type": "markdown",
   "id": "b924249c",
   "metadata": {},
   "source": [
    "# wap to add the sum of all the numbers taken by the user until user want to add the number or not."
   ]
  },
  {
   "cell_type": "code",
   "execution_count": null,
   "id": "f32dcaf6",
   "metadata": {},
   "outputs": [],
   "source": [
    "sum1=0\n",
    "while(True):\n",
    "    num=int(input(\"enter thr number \"))\n",
    "    sum1=sum1+num\n",
    "    choice=input(\"u wish u add more numbers or not if yess enter yes otherwise no\")\n",
    "    if choice==yes:\n",
    "        continue\n",
    "    elif choice==no:\n",
    "        break\n",
    "    else:\n",
    "        print(\"invalid choice\")\n",
    "print(\"the sum is\",sum1)\n",
    "        "
   ]
  },
  {
   "cell_type": "code",
   "execution_count": null,
   "id": "841493d7",
   "metadata": {},
   "outputs": [
    {
     "name": "stdout",
     "output_type": "stream",
     "text": [
      "enter the username sakshi\n",
      "enter the password 1035\n",
      "invalid username\n"
     ]
    }
   ],
   "source": [
    "username=sakshi\n",
    "password=1035\n",
    "count=0\n",
    "u=input(\"enter the username \")\n",
    "p=int(input(\"enter the password \"))\n",
    "for i in range(1,6):\n",
    "    if u==username and p==password:\n",
    "        print(\"login succesfully\")\n",
    "    else:\n",
    "        print(\"invalid username\")\n",
    "    a=input(\"re enter the username \")\n",
    "    b=input(\"re enter the paasoword \")\n",
    "    count=count+1\n",
    "    continue\n",
    "    if count==2:\n",
    "        print(\"time out\")\n",
    "        break\n",
    "    \n",
    "        \n",
    "\n",
    "        "
   ]
  },
  {
   "cell_type": "code",
   "execution_count": null,
   "id": "bcd9db2f",
   "metadata": {},
   "outputs": [],
   "source": [
    "sakshi=21\n",
    "print(sakshi)"
   ]
  },
  {
   "cell_type": "code",
   "execution_count": null,
   "id": "4347540b",
   "metadata": {},
   "outputs": [],
   "source": [
    "u=\"sakshi\"\n",
    "p=\"sakshi@123\"\n",
    "attempt=0\n",
    "while(True):\n",
    "    if attempt==5:\n",
    "        print(\"u crossed the limit\\nplz try next time\")\n",
    "        break\n",
    "    elif attempt<5:    \n",
    "        a=input(\"enter the username \")\n",
    "        b=input(\"enter the paasword \")\n",
    "        if ((a==u) and (b==p)):\n",
    "            print(\"login succesfully in attempt : \",attempt)\n",
    "            break\n",
    "        else:\n",
    "            attempt=attempt+1\n",
    "            print(\"invalid details\\n\\n\")\n",
    "            continue"
   ]
  },
  {
   "cell_type": "code",
   "execution_count": null,
   "id": "b4459fa5",
   "metadata": {},
   "outputs": [],
   "source": [
    "while(True):\n",
    "    if attempt==5:\n",
    "        print(\"u loose the game\")\n",
    "        break\n",
    "    elif attempt<5:\n",
    "        u=int(input(\"enter the number \"))\n",
    "        if u==a:\n",
    "            print(\"u win the game\")\n",
    "            break\n",
    "        else:\n",
    "            attempt=attempt+1\n",
    "            print(\"re try\")\n",
    "            continue\n",
    "            \n",
    "        \n"
   ]
  }
 ],
 "metadata": {
  "kernelspec": {
   "display_name": "Python 3 (ipykernel)",
   "language": "python",
   "name": "python3"
  },
  "language_info": {
   "codemirror_mode": {
    "name": "ipython",
    "version": 3
   },
   "file_extension": ".py",
   "mimetype": "text/x-python",
   "name": "python",
   "nbconvert_exporter": "python",
   "pygments_lexer": "ipython3",
   "version": "3.10.9"
  }
 },
 "nbformat": 4,
 "nbformat_minor": 5
}
