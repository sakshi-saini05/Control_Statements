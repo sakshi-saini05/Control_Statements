{
 "cells": [
  {
   "cell_type": "markdown",
   "id": "41e27372",
   "metadata": {},
   "source": [
    "## control statrment : branching statement allows us to skip our some statements,execute a series of statement repeitively or choose between alternate sets of statement to execute."
   ]
  },
  {
   "cell_type": "markdown",
   "id": "ec114abb",
   "metadata": {},
   "source": [
    "1. conditional statements\n",
    "2. looping statements"
   ]
  },
  {
   "cell_type": "markdown",
   "id": "d8ffe507",
   "metadata": {},
   "source": [
    "# conditional statement :-decision making"
   ]
  },
  {
   "cell_type": "markdown",
   "id": "d5340d5a",
   "metadata": {},
   "source": [
    "- if"
   ]
  },
  {
   "cell_type": "markdown",
   "id": "fe242184",
   "metadata": {},
   "source": [
    "- if-else"
   ]
  },
  {
   "cell_type": "markdown",
   "id": "cafd956a",
   "metadata": {},
   "source": [
    "- if-elif"
   ]
  },
  {
   "cell_type": "markdown",
   "id": "dfec9fc4",
   "metadata": {},
   "source": [
    "- if-elif-else"
   ]
  },
  {
   "cell_type": "markdown",
   "id": "aa17822b",
   "metadata": {},
   "source": [
    "- nested if-else"
   ]
  },
  {
   "cell_type": "markdown",
   "id": "94ede90a",
   "metadata": {},
   "source": [
    "if"
   ]
  },
  {
   "cell_type": "code",
   "execution_count": 1,
   "id": "6ed766db",
   "metadata": {},
   "outputs": [
    {
     "name": "stdout",
     "output_type": "stream",
     "text": [
      "enter the distance20\n",
      "heloozz\n"
     ]
    }
   ],
   "source": [
    "distance = int(input(\"enter the distance\" ))\n",
    "if distance>400:\n",
    "    print(\"i would go to outing\")\n",
    "print(\"heloozz\")"
   ]
  },
  {
   "cell_type": "markdown",
   "id": "ec2580c1",
   "metadata": {},
   "source": [
    "if else else (otherwise)"
   ]
  },
  {
   "cell_type": "code",
   "execution_count": 2,
   "id": "9b1016b1",
   "metadata": {},
   "outputs": [
    {
     "name": "stdout",
     "output_type": "stream",
     "text": [
      "enter the distance450\n",
      "i would go to outing\n"
     ]
    }
   ],
   "source": [
    "distance = int(input(\"enter the distance\" ))\n",
    "if distance>400:\n",
    "    print(\"i would go to outing\")\n",
    "else:\n",
    "    print(\"i would stay at home\")\n",
    "    "
   ]
  },
  {
   "cell_type": "markdown",
   "id": "08059582",
   "metadata": {},
   "source": [
    "### if-elif : when we have mutliple conditions\n"
   ]
  },
  {
   "cell_type": "code",
   "execution_count": 5,
   "id": "b0611802",
   "metadata": {},
   "outputs": [
    {
     "name": "stdout",
     "output_type": "stream",
     "text": [
      "enter the disatnce 45\n",
      "go to via bike\n"
     ]
    }
   ],
   "source": [
    "distance = int(input(\"enter the disatnce \"))\n",
    "if distance>0 and distance<=100:\n",
    "    print(\"go to via bike\")\n",
    "elif distance>=100 and distance<200:\n",
    "    print(\"go to via cab\")\n",
    "elif distance>200 and distance<300:\n",
    "      print(\"go to via bus\")\n",
    "elif distance>300 and distance<=400:\n",
    "    print(\"go to via train\")\n",
    "elif distance>400:\n",
    "        print(\"go to via flight\")\n",
    "  \n",
    "              \n",
    "    "
   ]
  },
  {
   "cell_type": "code",
   "execution_count": 4,
   "id": "35c4f3aa",
   "metadata": {},
   "outputs": [
    {
     "name": "stdout",
     "output_type": "stream",
     "text": [
      "enter the distance 45\n",
      "go to via bike\n"
     ]
    }
   ],
   "source": [
    "distance = int(input(\"enter the distance \"))\n",
    "if ((distance>0) and (distance<=100)):\n",
    "    print(\"go to via bike\")\n",
    "elif distance>=100 and distance<200:\n",
    "    print(\"go to via cab\")\n",
    "elif distance>200 and distance<300:\n",
    "      print(\"go to via bus\")\n",
    "elif distance>300 and distance<=400:\n",
    "    print(\"go to via train\")\n",
    "elif distance>400:\n",
    "        print(\"go to via flight\")\n",
    "else: \n",
    "    print(\"distance is invalid \")\n",
    "  \n",
    "              "
   ]
  },
  {
   "cell_type": "markdown",
   "id": "1974c5cb",
   "metadata": {},
   "source": [
    "# nested:- when there is condition in condition"
   ]
  },
  {
   "cell_type": "code",
   "execution_count": null,
   "id": "ed98fc17",
   "metadata": {},
   "outputs": [],
   "source": [
    "distance = int(input(\"enter the distance \"))\n",
    "if ((distance>0) and (distance<=100)):\n",
    "    print(\"go to via bike\")\n",
    "elif distance>=100 and distance<200:\n",
    "    print(\"go to via cab\")\n",
    "    weather=input(\"enter the weather \")\n",
    "    if weather==\"sunny\":\n",
    "        print(\"will take a break\")\n",
    "    else:\n",
    "        print(\"stay in cab\")\n",
    "elif distance>200 and distance<300:\n",
    "      print(\"go to via bus\")\n",
    "elif distance>300 and distance<=400:\n",
    "    print(\"go to via train\")\n",
    "elif distance>400:\n",
    "    print(\"go to via flight\")\n",
    "    flight=input(\"enter the flight \")\n",
    "    if flight==\"airindia\":\n",
    "        print(\"carry the snacks\")\n",
    "    elif flight==\"indigo\":\n",
    "        print(\"carry my own food\")\n",
    "    else:\n",
    "        print(\"wouldnt carry anything\")\n",
    "    \n",
    "else: \n",
    "    print(\"distance is invalid \")\n",
    "  \n",
    "              "
   ]
  },
  {
   "cell_type": "markdown",
   "id": "400a3647",
   "metadata": {},
   "source": [
    "## write to display the weather the entered number is odd or even\n"
   ]
  },
  {
   "cell_type": "code",
   "execution_count": 8,
   "id": "1463a9fc",
   "metadata": {},
   "outputs": [
    {
     "name": "stdout",
     "output_type": "stream",
     "text": [
      "enter the number 54\n",
      "the 54 is even\n"
     ]
    }
   ],
   "source": [
    "number=int((input(\"enter the number \" )))\n",
    "if number%2==0:\n",
    "    print(\"the\",number,\"is even\")\n",
    "else:\n",
    "    print(\"the\",number,\"is odd\")"
   ]
  },
  {
   "cell_type": "markdown",
   "id": "2f47bdd6",
   "metadata": {},
   "source": [
    "# check whether the entered number is zero,positive,negative"
   ]
  },
  {
   "cell_type": "code",
   "execution_count": 9,
   "id": "7aa23595",
   "metadata": {},
   "outputs": [
    {
     "name": "stdout",
     "output_type": "stream",
     "text": [
      "enter the number 40\n",
      "the 40 is positive\n"
     ]
    }
   ],
   "source": [
    "number=int(input(\"enter the number \"))\n",
    "if number>0:\n",
    "    print(\"the\",number,\"is positive\")\n",
    "elif number<0:\n",
    "    print(\"the\",number,\"is negative\")\n",
    "else:\n",
    "    print(\"the\",number,\"is zero\")"
   ]
  },
  {
   "cell_type": "markdown",
   "id": "65117308",
   "metadata": {},
   "source": [
    "#  task 1: wap to display whether the enterd no.is dividible by 5 only,only by 6,both 5 and 6"
   ]
  },
  {
   "cell_type": "code",
   "execution_count": 10,
   "id": "beb6ef8d",
   "metadata": {},
   "outputs": [
    {
     "name": "stdout",
     "output_type": "stream",
     "text": [
      "enter the number 47\n",
      "the 47 is neither divisible by 5 nor by 6\n"
     ]
    }
   ],
   "source": [
    "number=int(input(\"enter the number \"))\n",
    "if number%5==0 and number%6==0:\n",
    "    print(\"the\",number,\"is divisble by both 5 and 6\")\n",
    "elif number%5==0:\n",
    "    print(\"the\",number,\"is divisible by 5\")\n",
    "elif number%6==0:\n",
    "    print(\"the\",number,\"is divisible by 6\")\n",
    "else:\n",
    "    print(\"the\",number,\"is neither divisible by 5 nor by 6\")\n",
    "    \n"
   ]
  },
  {
   "cell_type": "markdown",
   "id": "64a61cbe",
   "metadata": {},
   "source": [
    "# task 2 wap to display whether the enterd no.is dividible by 5 only,only by 6,both 5 and 6 by using the nested statement"
   ]
  },
  {
   "cell_type": "code",
   "execution_count": 8,
   "id": "c3a58c57",
   "metadata": {},
   "outputs": [
    {
     "name": "stdout",
     "output_type": "stream",
     "text": [
      "enter the number 54\n",
      "number is divisible by 5 only\n"
     ]
    }
   ],
   "source": [
    "a=int(input(\"enter the number \"))\n",
    "if a%5==0:\n",
    "    if a%6==0:\n",
    "        print(\"magic no\")\n",
    "    else:\n",
    "        print(\"number is divisible by 5 only\")\n",
    "elif a%6==0:\n",
    "    print(\"number is divisible by 5 only\")\n",
    "else:\n",
    "    print(\"number is neither divisible by 5 and 7\")\n",
    "\n",
    "        \n",
    "        \n",
    "        "
   ]
  },
  {
   "cell_type": "markdown",
   "id": "10d83b23",
   "metadata": {},
   "source": [
    "# task 2: wap to check whether u are eligible for voting or not"
   ]
  },
  {
   "cell_type": "code",
   "execution_count": 2,
   "id": "1ee6bad6",
   "metadata": {},
   "outputs": [
    {
     "name": "stdout",
     "output_type": "stream",
     "text": [
      "enter the age 15\n",
      "not eligible for voting\n"
     ]
    }
   ],
   "source": [
    "age=int(input(\"enter the age \"))\n",
    "if age>0 and age<18:\n",
    "    print(\"not eligible for voting\")\n",
    "elif age>=18:\n",
    "    print(\"eligible for voting\")\n",
    "else:\n",
    "    print(\"age is not valid\")\n"
   ]
  },
  {
   "cell_type": "markdown",
   "id": "f135384d",
   "metadata": {},
   "source": [
    "# task 3: wap to display the greater the number from two numbers entered by use\n"
   ]
  },
  {
   "cell_type": "code",
   "execution_count": 21,
   "id": "e03ff29c",
   "metadata": {},
   "outputs": [
    {
     "name": "stdout",
     "output_type": "stream",
     "text": [
      "enter the first no 45\n",
      "enter the second no 45\n",
      "both no are equal\n"
     ]
    }
   ],
   "source": [
    "a=int(input(\"enter the first no \"))\n",
    "b=int(input(\"enter the second no \"))\n",
    "if a>b:\n",
    "    print(\"first no is greater than second \")\n",
    "elif a<b:\n",
    "    print(\"second no is greater than first\")\n",
    "else:\n",
    "    print(\"both no are equal\")\n",
    "\n",
    "\n"
   ]
  },
  {
   "cell_type": "markdown",
   "id": "a4f8580c",
   "metadata": {},
   "source": [
    "# task 4:wap to display the greater number among three number entered by user \n"
   ]
  },
  {
   "cell_type": "code",
   "execution_count": 12,
   "id": "f4ffa6c7",
   "metadata": {},
   "outputs": [
    {
     "name": "stdout",
     "output_type": "stream",
     "text": [
      "enter the first no 78\n",
      "enter the second no 87\n",
      "enter the third no 56\n",
      "b is greater than a and c\n"
     ]
    }
   ],
   "source": [
    "a=int(input(\"enter the first number \" ))\n",
    "b=int(input(\"enter the second number \" ))\n",
    "c=int(input(\"enter the third number \" ))\n",
    "if a>b and a>c:\n",
    "    print(a,\"is greater than b and c\") \n",
    "elif b>a and b>c:\n",
    "    print(b,\"is greater than a and c\")\n",
    "elif c>a and c>b:\n",
    "    print(c,\"is greater than a and b\")\n",
    "elif a==b and a>c:\n",
    "    print(a,\"is greater than c\")\n",
    "elif a==c and a>b:\n",
    "    print(a,\"is greater than b\")\n",
    "elif b==c and b>a:\n",
    "    print(b,\"is greater than a \")\n",
    "else:\n",
    "    (a,b,c,\"all are equal\")\n",
    "    "
   ]
  },
  {
   "cell_type": "markdown",
   "id": "7ef70d9e",
   "metadata": {},
   "source": [
    "## write a program to display the entered character is upper case or lower case"
   ]
  },
  {
   "cell_type": "markdown",
   "id": "fc893330",
   "metadata": {},
   "source": [
    "##  ord() is the inbuilt function which giving the ASCII value of the one length of character.\n",
    "## chr() is the inbuilt function which giving the ASCII value of the number."
   ]
  },
  {
   "cell_type": "code",
   "execution_count": 4,
   "id": "96046f41",
   "metadata": {},
   "outputs": [
    {
     "data": {
      "text/plain": [
       "98"
      ]
     },
     "execution_count": 4,
     "metadata": {},
     "output_type": "execute_result"
    }
   ],
   "source": [
    "ord(\"b\")"
   ]
  },
  {
   "cell_type": "code",
   "execution_count": 13,
   "id": "5cfcab9a",
   "metadata": {},
   "outputs": [
    {
     "data": {
      "text/plain": [
       "'A'"
      ]
     },
     "execution_count": 13,
     "metadata": {},
     "output_type": "execute_result"
    }
   ],
   "source": [
    "chr(65)"
   ]
  },
  {
   "cell_type": "code",
   "execution_count": 7,
   "id": "e3e607d0",
   "metadata": {},
   "outputs": [
    {
     "name": "stdout",
     "output_type": "stream",
     "text": [
      "enter the character A\n",
      "A is upper case\n"
     ]
    }
   ],
   "source": [
    "ch=input(\"enter the character \")\n",
    "if ord(ch)>=65 and ord(ch)<=90:\n",
    "    print(ch,\"is upper case\")\n",
    "elif ord(ch)>=97 and ord(ch)<=122:\n",
    "    print(ch,\"is lower case\")\n",
    "else:\n",
    "    print(\"it is not an alphabet\")"
   ]
  },
  {
   "cell_type": "markdown",
   "id": "217a64d2",
   "metadata": {},
   "source": [
    "## WAP TO Check whether the entered number is even or not between the range entered by user"
   ]
  },
  {
   "cell_type": "code",
   "execution_count": 12,
   "id": "46774fd2",
   "metadata": {},
   "outputs": [
    {
     "name": "stdout",
     "output_type": "stream",
     "text": [
      "enter the number 45\n",
      "enter the start 20\n",
      "enter thr end 30\n",
      "45 is not lie in the range given by the user\n"
     ]
    }
   ],
   "source": [
    "num= int(input(\"enter the number \"))\n",
    "start = int(input(\"enter the start \"))\n",
    "end = int(input(\"enter thr end \"))\n",
    "if num>start and num<end:\n",
    "    if num%2==0:\n",
    "        print(num,\"is even\")\n",
    "    else:\n",
    "        print(num,\"is odd\")\n",
    "else:\n",
    "    print(num,\"is not lie in the range given by the user\")\n",
    "          \n"
   ]
  },
  {
   "cell_type": "markdown",
   "id": "14b39b84",
   "metadata": {},
   "source": [
    "## wap to display the detained or not students status of the student based on following  criteria:\n",
    "## percentage of present days>75 and then not detained otherwise detained\n",
    "input : number of absent days and number of working days"
   ]
  },
  {
   "cell_type": "code",
   "execution_count": 27,
   "id": "f748a266",
   "metadata": {},
   "outputs": [
    {
     "name": "stdout",
     "output_type": "stream",
     "text": [
      "enter the absent days 4\n",
      "enter the working days 28\n",
      "present days 24\n",
      "85.71\n",
      "not denied\n"
     ]
    }
   ],
   "source": [
    "ab = int(input(\"enter the absent days \"))\n",
    "wo= int(input(\"enter the working days \"))\n",
    "pr=wo-ab\n",
    "print(\"present days\",pr)\n",
    "per_pr=pr*100/wo\n",
    "per_pr=round(per_pr,ndigits=2)\n",
    "print(per_pr)\n",
    "if (per_pr)>=75:\n",
    "    print(\"not denied\")\n",
    "else:\n",
    "    print(\"denied\")\n"
   ]
  },
  {
   "cell_type": "markdown",
   "id": "3f5fb4f0",
   "metadata": {},
   "source": [
    "## round() # it is the inbuilt function which is used for round off the decimal values\n"
   ]
  },
  {
   "cell_type": "code",
   "execution_count": 28,
   "id": "643472dd",
   "metadata": {},
   "outputs": [
    {
     "data": {
      "text/plain": [
       "55"
      ]
     },
     "execution_count": 28,
     "metadata": {},
     "output_type": "execute_result"
    }
   ],
   "source": [
    "round(54.6666) # if we don't give the ndigits value then it truncate all the decimal values\n"
   ]
  },
  {
   "cell_type": "code",
   "execution_count": 29,
   "id": "67469df5",
   "metadata": {},
   "outputs": [
    {
     "data": {
      "text/plain": [
       "56.55"
      ]
     },
     "execution_count": 29,
     "metadata": {},
     "output_type": "execute_result"
    }
   ],
   "source": [
    "round(56.555,2)"
   ]
  },
  {
   "cell_type": "markdown",
   "id": "3fcbe38e",
   "metadata": {},
   "source": [
    "## wap to take a number from the user and display hello if whose last digit is divisible by 4 otherwise display bye"
   ]
  },
  {
   "cell_type": "code",
   "execution_count": 16,
   "id": "962b3d77",
   "metadata": {},
   "outputs": [
    {
     "name": "stdout",
     "output_type": "stream",
     "text": [
      "enter the number 54\n",
      "the last digit is 4\n",
      "heloo\n"
     ]
    }
   ],
   "source": [
    "number=int(input(\"enter the number \"))\n",
    "ld = number%10 # ld is the last digit and by dividing the number by 10 we get the last digit from the number\n",
    "print(\"the last digit is\",ld)\n",
    "if ld%4==0:\n",
    "    print(\"heloo\")\n",
    "else:\n",
    "    print(\"bye\")"
   ]
  },
  {
   "cell_type": "markdown",
   "id": "975255d9",
   "metadata": {},
   "source": [
    " # wap to display the grade of the students based on the percentage and the criteria is : per>90 : a per>75 and per<90 : b per>=75 and per<75 :c otherwise d input : take 5 subject marks of student"
   ]
  },
  {
   "cell_type": "code",
   "execution_count": 2,
   "id": "1a371d87",
   "metadata": {},
   "outputs": [
    {
     "name": "stdout",
     "output_type": "stream",
     "text": [
      "enter the marks of DAA 78\n",
      "enter the marks of OB 55\n",
      "enter the marks of OS 45\n",
      "enter the marks of DM 45\n",
      "enter the marks of EVS 20\n",
      "sum of all the marks 243\n",
      "overall perventage is  49\n",
      "grade : D\n"
     ]
    }
   ],
   "source": [
    "a=int(input(\"enter the marks of DAA \" ))\n",
    "b=int(input(\"enter the marks of OB \" ))\n",
    "c=int(input(\"enter the marks of OS \" ))\n",
    "d=int(input(\"enter the marks of DM \" ))\n",
    "e=int(input(\"enter the marks of EVS \" ))\n",
    "\n",
    "sum1=a+b+c+d+e\n",
    "print(\"sum of all the marks\",sum1)\n",
    "per=sum1*100/500\n",
    "per=round(per)\n",
    "print(\"overall perventage is \",per)\n",
    "if per>90:\n",
    "    print(\"grade: A\")\n",
    "elif per>75 and per<90:\n",
    "    print(\"grade : B\")\n",
    "elif per>=75 and per<75:\n",
    "    print(\"grade : c\")\n",
    "else:\n",
    "    print(\"grade : D\")"
   ]
  },
  {
   "cell_type": "markdown",
   "id": "b6d10c9e",
   "metadata": {},
   "source": [
    "# # wap to display whether the entered day is weeeked or weekend\n",
    "\n"
   ]
  },
  {
   "cell_type": "code",
   "execution_count": 1,
   "id": "f2c83140",
   "metadata": {},
   "outputs": [
    {
     "name": "stdout",
     "output_type": "stream",
     "text": [
      "enter the day mon\n",
      "weeked\n"
     ]
    }
   ],
   "source": [
    "a=input(\"enter the day \")\n",
    "if a in [\"sat\",\"sun\"]:\n",
    "    print(\"weekend\")\n",
    "elif a in [\"mon\" ,\"tue\" ,\"wed\" ,\"thur\" ,\"fri\"]:\n",
    "    print(\"weeked\")\n",
    "else:\n",
    "    print(\"invalid day\")"
   ]
  },
  {
   "cell_type": "markdown",
   "id": "0a3235d9",
   "metadata": {},
   "source": [
    " # wap to dispaly whether the year is leap year or not"
   ]
  },
  {
   "cell_type": "code",
   "execution_count": 44,
   "id": "9c23adf4",
   "metadata": {},
   "outputs": [
    {
     "name": "stdout",
     "output_type": "stream",
     "text": [
      "enter the year 2024\n",
      "it is a leap year\n"
     ]
    }
   ],
   "source": [
    "a=int(input(\"enter the year \"))\n",
    "if a%4==0:\n",
    "    print(\"it is a leap year\")\n",
    "else:\n",
    "    print(\"it is not a leap year\")"
   ]
  },
  {
   "cell_type": "markdown",
   "id": "cd1126fa",
   "metadata": {},
   "source": [
    "# wap to display the corresponding days in the month entered by user\n"
   ]
  },
  {
   "cell_type": "code",
   "execution_count": 2,
   "id": "8e3818cb",
   "metadata": {},
   "outputs": [
    {
     "name": "stdout",
     "output_type": "stream",
     "text": [
      "enter the month sep\n",
      "number of days=30\n"
     ]
    }
   ],
   "source": [
    "a=input(\"enter the month \")\n",
    "if a in[\"januarary\",\"march\",\"may\" \"july\",\"aug\",\"oct\" , \"dec\"]:\n",
    "    print(\"number of days = 31\")\n",
    "elif a in \"feb\":\n",
    "    print(\"number of days =28,29\")\n",
    "elif a in [\"april\",\"june\",\"august\",\"sep\",\"nov\"]:    \n",
    "    print(\"number of days=30\")\n",
    "else:\n",
    "    print(\"invalid month\")\n",
    "    \n"
   ]
  },
  {
   "cell_type": "markdown",
   "id": "c0c52b00",
   "metadata": {},
   "source": [
    "# wap to display whether the character enterd by user is vowel or not"
   ]
  },
  {
   "cell_type": "code",
   "execution_count": 4,
   "id": "0b8075fe",
   "metadata": {},
   "outputs": [
    {
     "name": "stdout",
     "output_type": "stream",
     "text": [
      "enter the character: \\\n",
      "\\ is special character\n"
     ]
    }
   ],
   "source": [
    "ch=input(\"enter the character: \")\n",
    "if (ord(ch)>=65 and ord(ch)<=90) or (ord(ch)>=97 and ord(ch)<=122):\n",
    "    if ch in \"aeiouAEIOU\":\n",
    "        print(ch,\"is vowel\")\n",
    "    else:\n",
    "        print(ch,\"is consonant\")\n",
    "elif ch in [\"0\",\"1\",\"2\",\"3\",\"4\",\"5\",\"6\",\"7\",\"8\",\"9\"]:\n",
    "    print(ch,\"is digit\")\n",
    "else:\n",
    "    print(ch,\"is special character\")\n",
    "        "
   ]
  },
  {
   "cell_type": "code",
   "execution_count": 6,
   "id": "25043f20",
   "metadata": {},
   "outputs": [
    {
     "name": "stdout",
     "output_type": "stream",
     "text": [
      "enter ur age 25\n",
      "u r eligible for vote\n"
     ]
    }
   ],
   "source": [
    "age=int(input(\"enter ur age \"))\n",
    "if age>=18:\n",
    "    print(\"u r eligible for vote\")\n",
    "else:\n",
    "    print(\"u r not eligible for vote\")"
   ]
  },
  {
   "cell_type": "code",
   "execution_count": null,
   "id": "e00d04a0",
   "metadata": {},
   "outputs": [],
   "source": []
  }
 ],
 "metadata": {
  "kernelspec": {
   "display_name": "Python 3 (ipykernel)",
   "language": "python",
   "name": "python3"
  },
  "language_info": {
   "codemirror_mode": {
    "name": "ipython",
    "version": 3
   },
   "file_extension": ".py",
   "mimetype": "text/x-python",
   "name": "python",
   "nbconvert_exporter": "python",
   "pygments_lexer": "ipython3",
   "version": "3.10.9"
  }
 },
 "nbformat": 4,
 "nbformat_minor": 5
}
