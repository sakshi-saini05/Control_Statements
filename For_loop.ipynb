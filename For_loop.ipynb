{
 "cells": [
  {
   "cell_type": "markdown",
   "id": "e58695f0",
   "metadata": {},
   "source": [
    "# loop: means repeitition \n",
    "    "
   ]
  },
  {
   "cell_type": "markdown",
   "id": "c0f33020",
   "metadata": {},
   "source": [
    "- for"
   ]
  },
  {
   "cell_type": "markdown",
   "id": "91f7fb4e",
   "metadata": {},
   "source": [
    "- while"
   ]
  },
  {
   "cell_type": "markdown",
   "id": "1e6e743c",
   "metadata": {},
   "source": [
    "- nested"
   ]
  },
  {
   "cell_type": "markdown",
   "id": "e61a955e",
   "metadata": {},
   "source": [
    "- jump statement"
   ]
  },
  {
   "cell_type": "markdown",
   "id": "9243032c",
   "metadata": {},
   "source": [
    "range():it is  inbuilt function which generates the sequence of element."
   ]
  },
  {
   "cell_type": "code",
   "execution_count": 1,
   "id": "8eefbd99",
   "metadata": {},
   "outputs": [
    {
     "data": {
      "text/plain": [
       "range(0, 4)"
      ]
     },
     "execution_count": 1,
     "metadata": {},
     "output_type": "execute_result"
    }
   ],
   "source": [
    "range(4)"
   ]
  },
  {
   "cell_type": "code",
   "execution_count": 4,
   "id": "9030a78d",
   "metadata": {},
   "outputs": [
    {
     "data": {
      "text/plain": [
       "[0, 1, 2, 3]"
      ]
     },
     "execution_count": 4,
     "metadata": {},
     "output_type": "execute_result"
    }
   ],
   "source": [
    "list(range(4)) # 4 is treated as end\n"
   ]
  },
  {
   "cell_type": "code",
   "execution_count": 2,
   "id": "c3af990f",
   "metadata": {},
   "outputs": [
    {
     "data": {
      "text/plain": [
       "[1, 2, 3, 4, 5, 6, 7]"
      ]
     },
     "execution_count": 2,
     "metadata": {},
     "output_type": "execute_result"
    }
   ],
   "source": [
    "list(range(1,8))"
   ]
  },
  {
   "cell_type": "code",
   "execution_count": 3,
   "id": "b0ed1ebb",
   "metadata": {},
   "outputs": [
    {
     "data": {
      "text/plain": [
       "[2, 3, 4, 5, 6, 7]"
      ]
     },
     "execution_count": 3,
     "metadata": {},
     "output_type": "execute_result"
    }
   ],
   "source": [
    "list(range(2,8))"
   ]
  },
  {
   "cell_type": "code",
   "execution_count": 4,
   "id": "f2df3b23",
   "metadata": {},
   "outputs": [
    {
     "data": {
      "text/plain": [
       "[2, 4, 6, 8]"
      ]
     },
     "execution_count": 4,
     "metadata": {},
     "output_type": "execute_result"
    }
   ],
   "source": [
    "list(range(2,10,2))  # 2 is the starting point,10 is the end and take end-1 value,2 is the steps size"
   ]
  },
  {
   "cell_type": "markdown",
   "id": "58352db7",
   "metadata": {},
   "source": [
    " # it is in reverse order, in the reverse order end will be end+1,in the reverse order increment must be given,it will be negative"
   ]
  },
  {
   "cell_type": "code",
   "execution_count": 1,
   "id": "6544f5c9",
   "metadata": {},
   "outputs": [
    {
     "data": {
      "text/plain": [
       "[]"
      ]
     },
     "execution_count": 1,
     "metadata": {},
     "output_type": "execute_result"
    }
   ],
   "source": [
    "list(range(10,0)) # increment is not given ,so it gives empty result"
   ]
  },
  {
   "cell_type": "code",
   "execution_count": 8,
   "id": "d16eead7",
   "metadata": {},
   "outputs": [
    {
     "data": {
      "text/plain": [
       "[10, 9, 8, 7, 6, 5, 4, 3, 2, 1]"
      ]
     },
     "execution_count": 8,
     "metadata": {},
     "output_type": "execute_result"
    }
   ],
   "source": [
    "list(range(10,0,-1)) # if the range is in reverse order we take the step by negative sign"
   ]
  },
  {
   "cell_type": "code",
   "execution_count": 7,
   "id": "66386313",
   "metadata": {},
   "outputs": [
    {
     "data": {
      "text/plain": [
       "[10, 8, 6, 4, 2]"
      ]
     },
     "execution_count": 7,
     "metadata": {},
     "output_type": "execute_result"
    }
   ],
   "source": [
    "list(range(10,0,-2))"
   ]
  },
  {
   "cell_type": "code",
   "execution_count": 7,
   "id": "f79e1bb6",
   "metadata": {},
   "outputs": [
    {
     "data": {
      "text/plain": [
       "[50,\n",
       " 49,\n",
       " 48,\n",
       " 47,\n",
       " 46,\n",
       " 45,\n",
       " 44,\n",
       " 43,\n",
       " 42,\n",
       " 41,\n",
       " 40,\n",
       " 39,\n",
       " 38,\n",
       " 37,\n",
       " 36,\n",
       " 35,\n",
       " 34,\n",
       " 33,\n",
       " 32,\n",
       " 31,\n",
       " 30,\n",
       " 29,\n",
       " 28,\n",
       " 27,\n",
       " 26,\n",
       " 25,\n",
       " 24,\n",
       " 23,\n",
       " 22,\n",
       " 21]"
      ]
     },
     "execution_count": 7,
     "metadata": {},
     "output_type": "execute_result"
    }
   ],
   "source": [
    "list (range(50,20,-1))"
   ]
  },
  {
   "cell_type": "markdown",
   "id": "c9a445be",
   "metadata": {},
   "source": [
    "# for loop\n"
   ]
  },
  {
   "cell_type": "code",
   "execution_count": 2,
   "id": "16a98cc6",
   "metadata": {},
   "outputs": [
    {
     "name": "stdout",
     "output_type": "stream",
     "text": [
      "hello hello hello hello hello hello hello hello hello "
     ]
    }
   ],
   "source": [
    "for i in range(1,10):\n",
    "    print(\"hello\",end =\" \")"
   ]
  },
  {
   "cell_type": "markdown",
   "id": "aa01d3bf",
   "metadata": {},
   "source": [
    "# wap to display the sequence from 10 to 50"
   ]
  },
  {
   "cell_type": "code",
   "execution_count": 4,
   "id": "e989c353",
   "metadata": {},
   "outputs": [
    {
     "name": "stdout",
     "output_type": "stream",
     "text": [
      "10 11 12 13 14 15 16 17 18 19 20 21 22 23 24 25 26 27 28 29 30 31 32 33 34 35 36 37 38 39 40 41 42 43 44 45 46 47 48 49 50 "
     ]
    }
   ],
   "source": [
    "for i in range(10,51):\n",
    "    print(i,end=\" \")"
   ]
  },
  {
   "cell_type": "markdown",
   "id": "45594b1e",
   "metadata": {},
   "source": [
    " # wap to display the reverse sequence from 50 to 20"
   ]
  },
  {
   "cell_type": "code",
   "execution_count": 8,
   "id": "920a068c",
   "metadata": {},
   "outputs": [
    {
     "name": "stdout",
     "output_type": "stream",
     "text": [
      "50 49 48 47 46 45 44 43 42 41 40 39 38 37 36 35 34 33 32 31 30 29 28 27 26 25 24 23 22 21 20 "
     ]
    }
   ],
   "source": [
    "for i in range(50,19,-1):\n",
    "    print(i,end=\" \")"
   ]
  },
  {
   "cell_type": "markdown",
   "id": "92a636c6",
   "metadata": {},
   "source": [
    "# wap to take the input from the user"
   ]
  },
  {
   "cell_type": "code",
   "execution_count": 11,
   "id": "8a3fde2a",
   "metadata": {},
   "outputs": [
    {
     "name": "stdout",
     "output_type": "stream",
     "text": [
      "enter the start 20\n",
      "enter the end 30\n",
      "20 21 22 23 24 25 26 27 28 29 30 "
     ]
    }
   ],
   "source": [
    "start=int(input(\"enter the start \"))\n",
    "end=int(input(\"enter the end \"))\n",
    "for i in range(start,end+1):\n",
    "    print(i,end=\" \")"
   ]
  },
  {
   "cell_type": "code",
   "execution_count": 15,
   "id": "02f6a085",
   "metadata": {},
   "outputs": [
    {
     "name": "stdout",
     "output_type": "stream",
     "text": [
      "enter the start 50\n",
      "enter the end 40\n",
      "50 49 48 47 46 45 44 43 42 41 40 "
     ]
    }
   ],
   "source": [
    "start=int(input(\"enter the start \"))\n",
    "end=int(input(\"enter the end \"))\n",
    "for i in range(start,end-1,-1):\n",
    "    print(i,end=\" \")"
   ]
  },
  {
   "cell_type": "markdown",
   "id": "1261ee99",
   "metadata": {},
   "source": [
    "# wap to display the sequence of numbers in alternate manner."
   ]
  },
  {
   "cell_type": "code",
   "execution_count": 2,
   "id": "d351a54a",
   "metadata": {},
   "outputs": [
    {
     "name": "stdout",
     "output_type": "stream",
     "text": [
      "enter the start 4\n",
      "enter the end 20\n",
      "4 6 8 10 12 14 16 18 20 "
     ]
    }
   ],
   "source": [
    "start=int(input(\"enter the start \"))\n",
    "end=int(input(\"enter the end \"))\n",
    "for i in range(start,end+1,2):\n",
    "    print(i,end=\" \")"
   ]
  },
  {
   "cell_type": "markdown",
   "id": "a1e19cd2",
   "metadata": {},
   "source": [
    "# wap to display this sequence: 6,11,16,21,26,31..51"
   ]
  },
  {
   "cell_type": "code",
   "execution_count": 24,
   "id": "45278979",
   "metadata": {},
   "outputs": [
    {
     "name": "stdout",
     "output_type": "stream",
     "text": [
      "6 11 16 21 26 31 36 41 46 51 "
     ]
    }
   ],
   "source": [
    "for i in range(6,52,5):\n",
    "    print(i,end=\" \")"
   ]
  },
  {
   "cell_type": "markdown",
   "id": "dc5f7a5d",
   "metadata": {},
   "source": [
    "# wap to display this sequence: 1,4,9,16,25,36"
   ]
  },
  {
   "cell_type": "code",
   "execution_count": 3,
   "id": "40d3fdfc",
   "metadata": {},
   "outputs": [
    {
     "name": "stdout",
     "output_type": "stream",
     "text": [
      "1 4 9 16 25 36 "
     ]
    }
   ],
   "source": [
    "for i in range(1,7):\n",
    "    print(i*i,end=\" \")"
   ]
  },
  {
   "cell_type": "markdown",
   "id": "4be5f5e4",
   "metadata": {},
   "source": [
    "## wap to display all the even no and odd no from the range entered by the user"
   ]
  },
  {
   "cell_type": "code",
   "execution_count": 2,
   "id": "cd3bc74c",
   "metadata": {},
   "outputs": [
    {
     "name": "stdout",
     "output_type": "stream",
     "text": [
      "enter the start 2\n",
      "enter the end 10\n",
      "2 is even\n",
      "3 is odd\n",
      "4 is even\n",
      "5 is odd\n",
      "6 is even\n",
      "7 is odd\n",
      "8 is even\n",
      "9 is odd\n",
      "10 is even\n"
     ]
    }
   ],
   "source": [
    "start=int(input(\"enter the start \"))\n",
    "end=int(input(\"enter the end \"))\n",
    "for i in range(start,end+1):\n",
    "    if i%2==0:\n",
    "        print(i,\"is even\")\n",
    "    else:\n",
    "        print(i,\"is odd\")\n"
   ]
  },
  {
   "cell_type": "markdown",
   "id": "adf7a94a",
   "metadata": {},
   "source": [
    " ## wap to display all the magic number if the number is divisible by 5 and 6,display normal number,if it is divisible by 5 only,only by 6 otherwise display bye from the range enterd by user"
   ]
  },
  {
   "cell_type": "code",
   "execution_count": 3,
   "id": "5ee9d34c",
   "metadata": {},
   "outputs": [
    {
     "name": "stdout",
     "output_type": "stream",
     "text": [
      "enter the start 56\n",
      "enter the end 100\n",
      "56 bye\n",
      "57 bye\n",
      "58 bye\n",
      "59 bye\n",
      "60 magic no.\n",
      "61 bye\n",
      "62 bye\n",
      "63 bye\n",
      "64 bye\n",
      "65 normal no\n",
      "66 normal no\n",
      "67 bye\n",
      "68 bye\n",
      "69 bye\n",
      "70 normal no\n",
      "71 bye\n",
      "72 normal no\n",
      "73 bye\n",
      "74 bye\n",
      "75 normal no\n",
      "76 bye\n",
      "77 bye\n",
      "78 normal no\n",
      "79 bye\n",
      "80 normal no\n",
      "81 bye\n",
      "82 bye\n",
      "83 bye\n",
      "84 normal no\n",
      "85 normal no\n",
      "86 bye\n",
      "87 bye\n",
      "88 bye\n",
      "89 bye\n",
      "90 magic no.\n",
      "91 bye\n",
      "92 bye\n",
      "93 bye\n",
      "94 bye\n",
      "95 normal no\n",
      "96 normal no\n",
      "97 bye\n",
      "98 bye\n",
      "99 bye\n",
      "100 normal no\n"
     ]
    }
   ],
   "source": [
    "start=int(input(\"enter the start \"))\n",
    "end=int(input(\"enter the end \"))\n",
    "for i in range (start,end+1):\n",
    "    if i%5==0 and i%6==0:\n",
    "        print(i,\"magic no.\")\n",
    "    elif i%5==0 or i%6==0:\n",
    "        print(i,\"normal no\")\n",
    "    else:\n",
    "        print(i,\"bye\")"
   ]
  },
  {
   "cell_type": "markdown",
   "id": "2889812f",
   "metadata": {},
   "source": [
    "# wap to count the even no and odd no between the range enterd by user"
   ]
  },
  {
   "cell_type": "code",
   "execution_count": 9,
   "id": "56306c47",
   "metadata": {},
   "outputs": [
    {
     "name": "stdout",
     "output_type": "stream",
     "text": [
      "enter the start 5\n",
      "enter the end 25\n",
      "6 is even\n",
      "7 is odd\n",
      "8 is even\n",
      "9 is odd\n",
      "10 is even\n",
      "11 is odd\n",
      "12 is even\n",
      "13 is odd\n",
      "14 is even\n",
      "15 is odd\n",
      "16 is even\n",
      "17 is odd\n",
      "18 is even\n",
      "19 is odd\n",
      "20 is even\n",
      "21 is odd\n",
      "22 is even\n",
      "23 is odd\n",
      "24 is even\n",
      "the even count_e is  10\n",
      "the even count_e is  9\n"
     ]
    }
   ],
   "source": [
    "start=int(input(\"enter the start \"))\n",
    "end=int(input(\"enter the end \"))\n",
    "count_e=0\n",
    "count_o=0\n",
    "for i in range(start+1,end):\n",
    "    if i%2==0:\n",
    "        print(i,\"is even\")\n",
    "        count_e=count_e+1\n",
    "    else:\n",
    "        print(i,\"is odd\")\n",
    "        count_o=count_o+1\n",
    "print(\"the even count_e is \",count_e)   \n",
    "print(\"the even count_e is \",count_o)   \n"
   ]
  },
  {
   "cell_type": "markdown",
   "id": "2340f35a",
   "metadata": {},
   "source": [
    " # wap to display the table of the number entered by user\n",
    " "
   ]
  },
  {
   "cell_type": "code",
   "execution_count": 1,
   "id": "f7cb1a69",
   "metadata": {},
   "outputs": [
    {
     "name": "stdout",
     "output_type": "stream",
     "text": [
      "enter the number 5\n",
      "5\n",
      "10\n",
      "15\n",
      "20\n",
      "25\n",
      "30\n",
      "35\n",
      "40\n",
      "45\n",
      "50\n"
     ]
    }
   ],
   "source": [
    "num=int(input(\"enter the number \"))\n",
    "for i in range(1,11):\n",
    "    print(num,\"*\",i,\"=\",num*i)\n",
    "    "
   ]
  },
  {
   "cell_type": "markdown",
   "id": "c9d3bbd1",
   "metadata": {},
   "source": [
    "# wap to display the table of the number entered by user in reverse manner"
   ]
  },
  {
   "cell_type": "code",
   "execution_count": 19,
   "id": "e2cec905",
   "metadata": {},
   "outputs": [
    {
     "name": "stdout",
     "output_type": "stream",
     "text": [
      "enter the number 5\n",
      "5 * 10 = 50\n",
      "5 * 9 = 45\n",
      "5 * 8 = 40\n",
      "5 * 7 = 35\n",
      "5 * 6 = 30\n",
      "5 * 5 = 25\n",
      "5 * 4 = 20\n",
      "5 * 3 = 15\n",
      "5 * 2 = 10\n",
      "5 * 1 = 5\n"
     ]
    }
   ],
   "source": [
    "num=int(input(\"enter the number \"))\n",
    "for i in range(10,0,-1):\n",
    "    print(num,\"*\",i,\"=\",num*i)"
   ]
  },
  {
   "cell_type": "markdown",
   "id": "8f8e3d07",
   "metadata": {},
   "source": [
    "# wap to dispLAY the factors of the number entered by user and also display the count of factors"
   ]
  },
  {
   "cell_type": "code",
   "execution_count": 1,
   "id": "5605cf7f",
   "metadata": {},
   "outputs": [
    {
     "name": "stdout",
     "output_type": "stream",
     "text": [
      "enter the number 45\n",
      "1 is the factor of 45\n",
      "3 is the factor of 45\n",
      "5 is the factor of 45\n",
      "9 is the factor of 45\n",
      "15 is the factor of 45\n",
      "45 is the factor of 45\n",
      "the factors count of  45 is 6\n"
     ]
    }
   ],
   "source": [
    "num=int(input(\"enter the number \"))\n",
    "count=0\n",
    "for i in range(1,num+1):\n",
    "    if num%i==0:\n",
    "        print(i,\"is the factor of\",num)\n",
    "        count=count+1\n",
    "print(\"the factors count of \",num,\"is\",count)        "
   ]
  },
  {
   "cell_type": "markdown",
   "id": "5bc97543",
   "metadata": {},
   "source": [
    "# wap to display the  number is prime or composite\n"
   ]
  },
  {
   "cell_type": "code",
   "execution_count": 1,
   "id": "fcb59987",
   "metadata": {},
   "outputs": [
    {
     "name": "stdout",
     "output_type": "stream",
     "text": [
      "enter the number 2\n",
      "1 is the factor of 2\n",
      "2 is the factor of 2\n",
      "2 is prime\n"
     ]
    }
   ],
   "source": [
    "num=int(input(\"enter the number \"))\n",
    "count=0\n",
    "for i in range(1,num+1):\n",
    "    if num%i==0:\n",
    "        print(i,\"is the factor of\",num)\n",
    "        count=count+1\n",
    "if count==2:\n",
    "    print(num,\"is prime\")\n",
    "else:\n",
    "    print(num,\"is composite\")"
   ]
  },
  {
   "cell_type": "markdown",
   "id": "1230ba2c",
   "metadata": {},
   "source": [
    "# for loop with transversal"
   ]
  },
  {
   "cell_type": "markdown",
   "id": "1a79ac62",
   "metadata": {},
   "source": [
    "- int-is not iterable\n",
    " - float\n",
    "- complex\n",
    "- boolean"
   ]
  },
  {
   "cell_type": "markdown",
   "id": "27019942",
   "metadata": {},
   "source": [
    "- string- is iterable\n",
    "- list\n",
    "- tuple\n",
    "- dict\n",
    "-set\n",
    "-particular columns in data"
   ]
  },
  {
   "cell_type": "markdown",
   "id": "03448206",
   "metadata": {},
   "source": [
    "# wap to display the vowels or consonanats of ur name"
   ]
  },
  {
   "cell_type": "code",
   "execution_count": 21,
   "id": "5050762a",
   "metadata": {},
   "outputs": [
    {
     "name": "stdout",
     "output_type": "stream",
     "text": [
      "enter the word sakshisaini\n",
      "s is not vowel\n",
      "a is vowel\n",
      "k is not vowel\n",
      "s is not vowel\n",
      "h is not vowel\n",
      "i is vowel\n",
      "s is not vowel\n",
      "a is vowel\n",
      "i is vowel\n",
      "n is not vowel\n",
      "i is vowel\n",
      "the count of vowels  5\n",
      "the count of others  6\n"
     ]
    }
   ],
   "source": [
    "s=input(\"enter the word \")\n",
    "count_v=0\n",
    "count_o=0\n",
    "for i in s:\n",
    "    if i in \"aeiouAEIOU\":\n",
    "        print(i,\"is vowel\")\n",
    "        count_v=count_v+1\n",
    "    else:\n",
    "        print(i,\"is not vowel\")\n",
    "        count_o=count_o+1\n",
    "print(\"the count of vowels \",count_v)\n",
    "print(\"the count of others \",count_o)"
   ]
  },
  {
   "cell_type": "markdown",
   "id": "a2ef5793",
   "metadata": {},
   "source": [
    " # wap to count the number is even and odd numbers in list"
   ]
  },
  {
   "cell_type": "code",
   "execution_count": 24,
   "id": "b7b6de87",
   "metadata": {},
   "outputs": [
    {
     "name": "stdout",
     "output_type": "stream",
     "text": [
      "the even count is 3\n",
      "the odd count is 2\n"
     ]
    }
   ],
   "source": [
    "l=[12,13,100,90,345]\n",
    "count_e=0\n",
    "count_o=0\n",
    "for i in l:\n",
    "    if i%2==0:\n",
    "        count_e=count_e+1\n",
    "    else:\n",
    "        count_o=count_o+1\n",
    "print(\"the even count is\",count_e)        \n",
    "print(\"the odd count is\",count_o) \n",
    "    \n"
   ]
  },
  {
   "cell_type": "markdown",
   "id": "ce249c9f",
   "metadata": {},
   "source": [
    "# wap to display the sum of all the numbers present in the list"
   ]
  },
  {
   "cell_type": "code",
   "execution_count": 26,
   "id": "5b8d2c92",
   "metadata": {},
   "outputs": [
    {
     "name": "stdout",
     "output_type": "stream",
     "text": [
      "the sum is  60\n"
     ]
    }
   ],
   "source": [
    "l=[10,2,35,6,7]\n",
    "add=0\n",
    "for i in l:\n",
    "    add=add+i\n",
    "print(\"the sum is \",add)    "
   ]
  },
  {
   "cell_type": "markdown",
   "id": "ce09b6b7",
   "metadata": {},
   "source": [
    "# wap to sum and average of those numbers in the range entered by user\n"
   ]
  },
  {
   "cell_type": "code",
   "execution_count": 1,
   "id": "14fbf15e",
   "metadata": {},
   "outputs": [
    {
     "name": "stdout",
     "output_type": "stream",
     "text": [
      "enter the start 10\n",
      "enter the end 20\n",
      "the sum is 165\n",
      "the count is  11\n",
      "the average  15.0\n"
     ]
    }
   ],
   "source": [
    "start= int(input(\"enter the start \"))\n",
    "end = int(input(\"enter the end \"))\n",
    "add=0 \n",
    "count=0          \n",
    "for i in range(start,end+1):\n",
    "          add=add+i\n",
    "          count=count+1\n",
    "print(\"the sum is\",add)\n",
    "print(\"the count is \",count) \n",
    "average=add/count\n",
    "print(\"the average \",average)"
   ]
  },
  {
   "cell_type": "markdown",
   "id": "d735f12c",
   "metadata": {},
   "source": [
    "# wap to display the sum of even numbers and multiplication of odd numbers in the list or range"
   ]
  },
  {
   "cell_type": "code",
   "execution_count": 16,
   "id": "4c10adc0",
   "metadata": {},
   "outputs": [
    {
     "name": "stdout",
     "output_type": "stream",
     "text": [
      "2 the number is even\n",
      "3 the number is odd\n",
      "45 the number is odd\n",
      "98 the number is even\n",
      "32 the number is even\n",
      "56 the number is even\n",
      "the sum of even no. is  188\n",
      "the multiplication of odd no is  135\n"
     ]
    }
   ],
   "source": [
    "l=[2,3,45,98,32,56]\n",
    "add=0\n",
    "mult=1\n",
    "for i in l:\n",
    "    if i%2==0:\n",
    "        print(i,\"the number is even\")\n",
    "        add=add+i\n",
    "    else:\n",
    "        print(i,\"the number is odd\")\n",
    "        mult=mult*i\n",
    "print(\"the sum of even no. is \",add)\n",
    "print(\"the multiplication of odd no is \",mult)\n",
    "    "
   ]
  }
 ],
 "metadata": {
  "kernelspec": {
   "display_name": "Python 3 (ipykernel)",
   "language": "python",
   "name": "python3"
  },
  "language_info": {
   "codemirror_mode": {
    "name": "ipython",
    "version": 3
   },
   "file_extension": ".py",
   "mimetype": "text/x-python",
   "name": "python",
   "nbconvert_exporter": "python",
   "pygments_lexer": "ipython3",
   "version": "3.10.9"
  }
 },
 "nbformat": 4,
 "nbformat_minor": 5
}
